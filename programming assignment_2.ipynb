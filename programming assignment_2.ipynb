{
 "cells": [
  {
   "cell_type": "code",
   "execution_count": 2,
   "id": "6d8e04d4",
   "metadata": {},
   "outputs": [
    {
     "name": "stdout",
     "output_type": "stream",
     "text": [
      "Enter distance in Km: 623\n",
      "Distance in miles:  387.11425137\n"
     ]
    }
   ],
   "source": [
    "#q1 Write a python program to convert kilometer to miles\n",
    "\n",
    "dist=float(input(\"Enter distance in Km: \"))\n",
    "miles=dist*0.62137119\n",
    "print(\"Distance in miles: \", miles)\n"
   ]
  },
  {
   "cell_type": "code",
   "execution_count": 7,
   "id": "3985781b",
   "metadata": {},
   "outputs": [
    {
     "name": "stdout",
     "output_type": "stream",
     "text": [
      "Enter temperature in Celsius: 55\n",
      "Temperate in Farenheit:  131.0\n"
     ]
    }
   ],
   "source": [
    "#q2 Write a program to convert Celsius to Fahrenheit\n",
    "\n",
    "cel=float(input(\"Enter temperature in Celsius: \"))\n",
    "Far=(cel*1.8)+32\n",
    "print(\"Temperate in Farenheit: \", Far)"
   ]
  },
  {
   "cell_type": "code",
   "execution_count": 12,
   "id": "f663fafd",
   "metadata": {},
   "outputs": [
    {
     "name": "stdout",
     "output_type": "stream",
     "text": [
      "Enter the year: 1979\n",
      "Enter the month(1 to 12): 9\n",
      "   September 1979\n",
      "Mo Tu We Th Fr Sa Su\n",
      "                1  2\n",
      " 3  4  5  6  7  8  9\n",
      "10 11 12 13 14 15 16\n",
      "17 18 19 20 21 22 23\n",
      "24 25 26 27 28 29 30\n",
      "\n"
     ]
    }
   ],
   "source": [
    "#q3 Write a program to display calender\n",
    "import calendar\n",
    "year=int(input(\"Enter the year: \"))\n",
    "mon=int(input(\"Enter the month(1 to 12): \"))\n",
    "print(calendar.month(year,mon))\n"
   ]
  },
  {
   "cell_type": "code",
   "execution_count": 20,
   "id": "abcbbea9",
   "metadata": {},
   "outputs": [
    {
     "name": "stdout",
     "output_type": "stream",
     "text": [
      "Enter the value of a: 1\n",
      "Enter the value of b: 2\n",
      "Enter the value of c: 1\n",
      "real and same roots\n",
      "-1.0\n",
      "-1.0\n"
     ]
    }
   ],
   "source": [
    "#q4 Write a Python program to solve quadratic equation\n",
    "# quadratic equation= ax**2+bx+c\n",
    "\n",
    "import math \n",
    "  \n",
    "a=float(input(\"Enter the value of a: \"))\n",
    "b=float(input(\"Enter the value of b: \"))\n",
    "c=float(input(\"Enter the value of c: \"))\n",
    "\n",
    "if a == 0: \n",
    "        print(\"Input correct quadratic equation\") \n",
    "  \n",
    "    \n",
    "d = b * b - 4 * a * c   #calculating discriminant \n",
    "sqrt_d = math.sqrt(abs(d)) \n",
    "      \n",
    "if d > 0:\n",
    "    print(\"real and different roots \") \n",
    "    print((-b + sqrt_d)/(2 * a)) \n",
    "    print((-b - sqrt_d)/(2 * a)) \n",
    "      \n",
    "elif d == 0: \n",
    "    print(\"real and same roots\") \n",
    "    print(-b / (2 * a)) \n",
    "    print(-b / (2 * a)) \n",
    "    \n",
    "else:\n",
    "    print(\"Complex Roots\") \n",
    "    print(- b / (2 * a), \" + i\", sqrt_d)\n",
    "    print(- b / (2 * a), \" - i\", sqrt_d)\n",
    "  \n",
    " \n",
    "\n",
    "\n",
    "\n"
   ]
  },
  {
   "cell_type": "code",
   "execution_count": 22,
   "id": "1d20f001",
   "metadata": {},
   "outputs": [
    {
     "name": "stdout",
     "output_type": "stream",
     "text": [
      "Enter first number(x): 67\n",
      "Enter first number(y): 89\n",
      "x:  89\n",
      "y:  67\n"
     ]
    }
   ],
   "source": [
    "#q5 Python program to swap two variable without temp variable\n",
    "\n",
    "x=int(input(\"Enter first number(x): \"))\n",
    "y=int(input(\"Enter first number(y): \"))\n",
    "\n",
    "x,y=y,x\n",
    "\n",
    "print(\"x: \", x)\n",
    "print(\"y: \", y)"
   ]
  },
  {
   "cell_type": "code",
   "execution_count": 23,
   "id": "44e94b00",
   "metadata": {},
   "outputs": [
    {
     "name": "stdout",
     "output_type": "stream",
     "text": [
      "Enter first number(x): 67\n",
      "Enter first number(y): 89\n",
      "x:  89\n",
      "y:  67\n"
     ]
    }
   ],
   "source": [
    "#python program to swap variable with temp variable\n",
    "\n",
    "x=int(input(\"Enter first number(x): \"))\n",
    "y=int(input(\"Enter first number(y): \"))\n",
    "temp=x\n",
    "x=y\n",
    "y=temp\n",
    "print(\"x: \", x)\n",
    "print(\"y: \", y)"
   ]
  },
  {
   "cell_type": "code",
   "execution_count": null,
   "id": "806df5fd",
   "metadata": {},
   "outputs": [],
   "source": []
  }
 ],
 "metadata": {
  "kernelspec": {
   "display_name": "Python 3 (ipykernel)",
   "language": "python",
   "name": "python3"
  },
  "language_info": {
   "codemirror_mode": {
    "name": "ipython",
    "version": 3
   },
   "file_extension": ".py",
   "mimetype": "text/x-python",
   "name": "python",
   "nbconvert_exporter": "python",
   "pygments_lexer": "ipython3",
   "version": "3.9.12"
  }
 },
 "nbformat": 4,
 "nbformat_minor": 5
}
